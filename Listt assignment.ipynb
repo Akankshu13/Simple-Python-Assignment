{
 "cells": [
  {
   "cell_type": "markdown",
   "id": "6beb29ef",
   "metadata": {},
   "source": [
    "#                                              Python Coding – List\n",
    "\n",
    "                                                \n"
   ]
  },
  {
   "cell_type": "markdown",
   "id": "cea628e9",
   "metadata": {},
   "source": [
    "# Assignment – 1"
   ]
  },
  {
   "cell_type": "markdown",
   "id": "cd6ed663",
   "metadata": {},
   "source": [
    "### Question 1: Write a Python program to count the number of elements in a list.\n",
    "\n",
    "\n"
   ]
  },
  {
   "cell_type": "code",
   "execution_count": 41,
   "id": "c6a5b996",
   "metadata": {},
   "outputs": [
    {
     "name": "stdout",
     "output_type": "stream",
     "text": [
      "10\n"
     ]
    }
   ],
   "source": [
    "a1=[34,56,78,34,54,34,54,34,78,'jk']\n",
    "\n",
    "count=0\n",
    "for i in a1:\n",
    "    count=count+1\n",
    "    \n",
    "print(count)"
   ]
  },
  {
   "cell_type": "markdown",
   "id": "54256998",
   "metadata": {},
   "source": [
    "### Question 2: Write a Python program to find the maximum and minimum values in a given list.\n",
    "\n"
   ]
  },
  {
   "cell_type": "code",
   "execution_count": 33,
   "id": "313e61e2",
   "metadata": {},
   "outputs": [
    {
     "name": "stdout",
     "output_type": "stream",
     "text": [
      "Maximum value in the given list is: 78\n",
      "\n",
      "Miniimum value in the given list is: 34\n"
     ]
    }
   ],
   "source": [
    "a1=[34,56,78,34,54,34,54,34]\n",
    "a=min(a1)\n",
    "b=max(a1)\n",
    "\n",
    "print(\"Maximum value in the given list is:\",b)\n",
    "print(\"\\nMiniimum value in the given list is:\",a)\n"
   ]
  },
  {
   "cell_type": "markdown",
   "id": "2c84e43c",
   "metadata": {},
   "source": [
    "### Question 3: Write a Python program to remove the first occurrence of a specified element from a list."
   ]
  },
  {
   "cell_type": "code",
   "execution_count": 29,
   "id": "1d3ef388",
   "metadata": {},
   "outputs": [
    {
     "name": "stdout",
     "output_type": "stream",
     "text": [
      "[56, 78, 34, 54, 34, 54, 34]\n"
     ]
    }
   ],
   "source": [
    "num=[]\n",
    "num1=int(input(\"Enter number of element you want to add in a list.\"))\n",
    "i=0\n",
    "\n",
    "while i<num1:\n",
    "    num2=int(input(\"Enter element\"))\n",
    "    num.append(num2)\n",
    "    i=i+1\n",
    "    \n",
    "print(\"Original List:\",num)\n",
    "\n",
    "rem=int(input(\"Enter a number you want to remove his first occurence\"))\n",
    "num3=num.remove(rem)\n",
    "print(num3)"
   ]
  },
  {
   "cell_type": "markdown",
   "id": "ac115099",
   "metadata": {},
   "source": [
    "### Question 4: Write a Python program to find the average of all the elements in a list.\n",
    "\n"
   ]
  },
  {
   "cell_type": "code",
   "execution_count": 21,
   "id": "50a83c7d",
   "metadata": {},
   "outputs": [
    {
     "name": "stdout",
     "output_type": "stream",
     "text": [
      "Avgerage of numbers is : 51.666666666666664\n"
     ]
    }
   ],
   "source": [
    "a=[34,56,78,54,34,54]\n",
    "sum=0\n",
    "for i in a:\n",
    "    sum=sum+i\n",
    "Avg=sum/len(a)\n",
    "print(\"Avgerage of numbers is :\",Avg)\n"
   ]
  },
  {
   "cell_type": "markdown",
   "id": "fa4aceeb",
   "metadata": {},
   "source": [
    "### Question 5: Write a Python program to check if a list is empty or not."
   ]
  },
  {
   "cell_type": "code",
   "execution_count": 47,
   "id": "b4ab25f1",
   "metadata": {},
   "outputs": [
    {
     "name": "stdout",
     "output_type": "stream",
     "text": [
      "<class 'list'>\n",
      "\n",
      "List is Empty\n"
     ]
    }
   ],
   "source": [
    "list1=[]\n",
    "print(type(list1))\n",
    "\n",
    "if list1==[]:\n",
    "    print(\"\\nList is Empty\")\n",
    "else:\n",
    "    print(\"\\nList is not Empty\")\n"
   ]
  },
  {
   "cell_type": "markdown",
   "id": "137de0c1",
   "metadata": {},
   "source": [
    "### Question 6: Write a Python program to find the index of a specified element in a list.\n",
    "\n",
    "\n"
   ]
  },
  {
   "cell_type": "code",
   "execution_count": 17,
   "id": "7151d4fd",
   "metadata": {},
   "outputs": [
    {
     "name": "stdout",
     "output_type": "stream",
     "text": [
      "Index is : 1\n"
     ]
    }
   ],
   "source": [
    "list1=['Shubham','Amit','Divya','Navya','bob']\n",
    "a=(list1.index('Amit'))\n",
    "print(\"Index is :\",a)"
   ]
  },
  {
   "cell_type": "markdown",
   "id": "936acd43",
   "metadata": {},
   "source": [
    "### Question 7: Write a Python program to concatenate two lists.\n",
    "\n"
   ]
  },
  {
   "cell_type": "code",
   "execution_count": 13,
   "id": "aa784fce",
   "metadata": {},
   "outputs": [
    {
     "name": "stdout",
     "output_type": "stream",
     "text": [
      "Concatination of two lists are ['Shubham', 'Amit', 'Divya', 'Navya', 'bob', 1, 2, 3, 4]\n"
     ]
    }
   ],
   "source": [
    "list1=['Shubham','Amit','Divya','Navya','bob']\n",
    "list2=[1,2,3,4]\n",
    "list3=list1 + list2\n",
    "print(\"Concatination of two lists are\",list3)"
   ]
  },
  {
   "cell_type": "markdown",
   "id": "204ae1e3",
   "metadata": {},
   "source": [
    "### Question 8: Write a Python program to find the common elements between two lists.\n",
    "\n",
    "\n"
   ]
  },
  {
   "cell_type": "code",
   "execution_count": 53,
   "id": "47063c3b",
   "metadata": {},
   "outputs": [
    {
     "name": "stdout",
     "output_type": "stream",
     "text": [
      "The common elements of a list is: [56, 87]\n"
     ]
    }
   ],
   "source": [
    "num1 = [45,87,56]\n",
    "num2 = [56,99,67,87]\n",
    "num3=(set(num1) & set(num2))\n",
    "\n",
    "print(\"The common elements of a list is:\", list(num3))\n",
    "                      "
   ]
  },
  {
   "cell_type": "markdown",
   "id": "02990f9b",
   "metadata": {},
   "source": [
    "### Question 9: Write a Python program to remove the duplicates from a list while preserving the order of elements.\n",
    "\n"
   ]
  },
  {
   "cell_type": "code",
   "execution_count": 56,
   "id": "e2842d9e",
   "metadata": {},
   "outputs": [
    {
     "name": "stdout",
     "output_type": "stream",
     "text": [
      "[4, 5, 7, 8, 9, 45, 22]\n"
     ]
    }
   ],
   "source": [
    "num1=[7,8,5,4,5,7,9,45,22]\n",
    "num2=set(num1)\n",
    "print(list(num2))"
   ]
  },
  {
   "cell_type": "markdown",
   "id": "1643cc98",
   "metadata": {},
   "source": [
    "### Question 10: Write a Python program to sort a list of strings in alphabetical order."
   ]
  },
  {
   "cell_type": "code",
   "execution_count": 9,
   "id": "392e4045",
   "metadata": {},
   "outputs": [
    {
     "name": "stdout",
     "output_type": "stream",
     "text": [
      "['Amit', 'Divya', 'Navya', 'Shubham', 'bob']\n"
     ]
    }
   ],
   "source": [
    "mylist=['Shubham','Amit','Divya','Navya','bob']\n",
    "print(sorted(mylist))"
   ]
  },
  {
   "cell_type": "code",
   "execution_count": null,
   "id": "fd93c827",
   "metadata": {},
   "outputs": [],
   "source": []
  }
 ],
 "metadata": {
  "kernelspec": {
   "display_name": "Python 3 (ipykernel)",
   "language": "python",
   "name": "python3"
  },
  "language_info": {
   "codemirror_mode": {
    "name": "ipython",
    "version": 3
   },
   "file_extension": ".py",
   "mimetype": "text/x-python",
   "name": "python",
   "nbconvert_exporter": "python",
   "pygments_lexer": "ipython3",
   "version": "3.10.9"
  }
 },
 "nbformat": 4,
 "nbformat_minor": 5
}
