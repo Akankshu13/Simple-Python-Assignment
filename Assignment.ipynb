{
 "cells": [
  {
   "cell_type": "markdown",
   "id": "4216074d",
   "metadata": {},
   "source": [
    "# Question1"
   ]
  },
  {
   "cell_type": "markdown",
   "id": "32e8ce42",
   "metadata": {},
   "source": [
    "### Take two integer numbers and return their product. If the product is greater than 1000, then return their sum if product is less than 1000 return product value only.¶"
   ]
  },
  {
   "cell_type": "code",
   "execution_count": 1,
   "id": "8514e2fd",
   "metadata": {},
   "outputs": [
    {
     "name": "stdout",
     "output_type": "stream",
     "text": [
      "Enter your first number23\n",
      "Enter second number56\n",
      "1288\n",
      "The number is greater is 1000, So sum of numbers is 79\n"
     ]
    }
   ],
   "source": [
    "first_num= int(input(\"Enter your first number\"))\n",
    "second_num=int(input(\"Enter second number\"))\n",
    "pro= first_num*second_num\n",
    "print(pro)\n",
    "\n",
    "if pro>1000:\n",
    "    print(\"The number is greater is 1000, So sum of numbers is\",first_num+second_num)\n",
    "else:\n",
    "    print(\"The number is less than 1000, So product of number is\",pro)"
   ]
  },
  {
   "cell_type": "markdown",
   "id": "6290fb20",
   "metadata": {},
   "source": [
    "# Question2"
   ]
  },
  {
   "cell_type": "markdown",
   "id": "bea7613e",
   "metadata": {},
   "source": [
    "### Given a range of the first 10 numbers, Iterate from the start number to the end number, and In each iteration print the sum of the current number and previous number"
   ]
  },
  {
   "cell_type": "code",
   "execution_count": 2,
   "id": "43fb4590",
   "metadata": {},
   "outputs": [
    {
     "name": "stdout",
     "output_type": "stream",
     "text": [
      "current no 0 previous no 0 sum is 0\n",
      "current no 1 previous no 0 sum is 1\n",
      "current no 2 previous no 1 sum is 3\n",
      "current no 3 previous no 2 sum is 5\n",
      "current no 4 previous no 3 sum is 7\n",
      "current no 5 previous no 4 sum is 9\n",
      "current no 6 previous no 5 sum is 11\n",
      "current no 7 previous no 6 sum is 13\n",
      "current no 8 previous no 7 sum is 15\n",
      "current no 9 previous no 8 sum is 17\n"
     ]
    }
   ],
   "source": [
    "previous_num=0\n",
    "for i in range (0,10):\n",
    "    \n",
    "    if i<10:\n",
    "        sum=previous_num+i\n",
    "    \n",
    "    print(\"current no\",i,\"previous no\",previous_num,\"sum is\",sum)\n",
    "    previous_num=i\n",
    "    "
   ]
  },
  {
   "cell_type": "markdown",
   "id": "1629dcff",
   "metadata": {},
   "source": [
    "# Question3"
   ]
  },
  {
   "cell_type": "markdown",
   "id": "fa4cdc29",
   "metadata": {},
   "source": [
    "### Given a string and an integer number n, remove characters from a string starting from zero up to n and return a new string"
   ]
  },
  {
   "cell_type": "code",
   "execution_count": 3,
   "id": "60a87558",
   "metadata": {},
   "outputs": [
    {
     "name": "stdout",
     "output_type": "stream",
     "text": [
      "Enter your number5\n",
      "Old_String Pynative\n",
      "New String ive\n"
     ]
    }
   ],
   "source": [
    "string=\"Pynative\"\n",
    "h= int(input(\"Enter your number\"))\n",
    "print(\"Old_String\",string)\n",
    "\n",
    "string2=\"\"\n",
    "\n",
    "for i in range(len(string)):\n",
    "    if i>= h:\n",
    "        string2=string2+string[i]\n",
    " \n",
    "print(\"New String\",string2)\n"
   ]
  },
  {
   "cell_type": "markdown",
   "id": "b8c22984",
   "metadata": {},
   "source": [
    "# Question4"
   ]
  },
  {
   "cell_type": "markdown",
   "id": "2f6ff046",
   "metadata": {},
   "source": [
    "### Given a list of numbers, return True if first and last number of a list is same"
   ]
  },
  {
   "cell_type": "code",
   "execution_count": 6,
   "id": "35f4b87c",
   "metadata": {},
   "outputs": [
    {
     "name": "stdout",
     "output_type": "stream",
     "text": [
      "How many number you want in list5\n",
      "Enter your number10\n",
      "Enter your number13\n",
      "Enter your number14\n",
      "Enter your number16\n",
      "Enter your number10\n",
      "[10, 13, 14, 16, 10]\n",
      "First and last digit of list is same.\n"
     ]
    }
   ],
   "source": [
    "number=int(input(\"How many number you want in list\"))\n",
    "a=[]\n",
    "for i in range(number):\n",
    "    num=int(input(\"Enter your number\"))\n",
    "    a.append(num)\n",
    "print(a)\n",
    "\n",
    "if a[0]==a[-1]:\n",
    "    print(\"First and last digit of list is same.\")\n",
    "else:\n",
    "    print(\"First and last digit of list is not same.\")"
   ]
  },
  {
   "cell_type": "markdown",
   "id": "613f8b6b",
   "metadata": {},
   "source": [
    "# Question6"
   ]
  },
  {
   "cell_type": "markdown",
   "id": "3d2fd016",
   "metadata": {},
   "source": [
    "### Remove empty strings from the list of strings"
   ]
  },
  {
   "cell_type": "code",
   "execution_count": 7,
   "id": "7bdc619f",
   "metadata": {},
   "outputs": [
    {
     "name": "stdout",
     "output_type": "stream",
     "text": [
      "['Mike', 'Emma', 'Kelly', 'Brad']\n"
     ]
    }
   ],
   "source": [
    "list1 = [\"Mike\", \"\", \"Emma\", \"Kelly\", \"\", \"Brad\"]\n",
    "list1.remove(\"\")\n",
    "list1.remove(\"\")\n",
    "print(list1)"
   ]
  },
  {
   "cell_type": "markdown",
   "id": "4179c502",
   "metadata": {},
   "source": [
    "# Question7"
   ]
  },
  {
   "cell_type": "markdown",
   "id": "c4f25e76",
   "metadata": {},
   "source": [
    "### Find the palindrome of a number"
   ]
  },
  {
   "cell_type": "code",
   "execution_count": 9,
   "id": "ee7a3193",
   "metadata": {},
   "outputs": [
    {
     "name": "stdout",
     "output_type": "stream",
     "text": [
      "Enter the no you want to check is palindron or not?121\n",
      "The no is palindrone 121\n"
     ]
    }
   ],
   "source": [
    "number=int(input(\"Enter the no you want to check is palindron or not?\"))#123\n",
    "count=0\n",
    "j=number\n",
    "while number>0:\n",
    "    result=number%10\n",
    "    count=(count*10)+result\n",
    "    number=number//10\n",
    "\n",
    "if count==j:\n",
    "    print(\"The no is palindrone\",n)\n",
    "else:\n",
    "    print(\"The no is not palindrome\", nr)\n"
   ]
  },
  {
   "cell_type": "code",
   "execution_count": null,
   "id": "49431eb6",
   "metadata": {},
   "outputs": [],
   "source": []
  }
 ],
 "metadata": {
  "kernelspec": {
   "display_name": "Python 3 (ipykernel)",
   "language": "python",
   "name": "python3"
  },
  "language_info": {
   "codemirror_mode": {
    "name": "ipython",
    "version": 3
   },
   "file_extension": ".py",
   "mimetype": "text/x-python",
   "name": "python",
   "nbconvert_exporter": "python",
   "pygments_lexer": "ipython3",
   "version": "3.10.9"
  }
 },
 "nbformat": 4,
 "nbformat_minor": 5
}
