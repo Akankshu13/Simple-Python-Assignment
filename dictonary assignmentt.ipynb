{
 "cells": [
  {
   "cell_type": "markdown",
   "id": "57b1b6c9",
   "metadata": {},
   "source": [
    "# Python Coding on Dictionary \n",
    "                               "
   ]
  },
  {
   "cell_type": "markdown",
   "id": "b524d446",
   "metadata": {},
   "source": [
    "# Assignment \n",
    "\n"
   ]
  },
  {
   "cell_type": "markdown",
   "id": "e7aa2330",
   "metadata": {},
   "source": [
    "### Question 1: Write a Python program to create an empty dictionary.\n",
    "\n"
   ]
  },
  {
   "cell_type": "code",
   "execution_count": 1,
   "id": "09d399da",
   "metadata": {},
   "outputs": [
    {
     "name": "stdout",
     "output_type": "stream",
     "text": [
      "<class 'dict'>\n"
     ]
    }
   ],
   "source": [
    "a={}\n",
    "print(type(a))"
   ]
  },
  {
   "cell_type": "markdown",
   "id": "8860af5b",
   "metadata": {},
   "source": [
    "### Question 2: Write a Python program to add a key-value pair to a dictionary."
   ]
  },
  {
   "cell_type": "code",
   "execution_count": 4,
   "id": "8ccfa067",
   "metadata": {},
   "outputs": [
    {
     "name": "stdout",
     "output_type": "stream",
     "text": [
      "{'banana': 3, 'Mango': 8, 'cheeku': 2}\n"
     ]
    }
   ],
   "source": [
    "a={}\n",
    "a['banana']=3\n",
    "a['Mango']=8\n",
    "a['cheeku']=2\n",
    "print(a)\n"
   ]
  },
  {
   "cell_type": "markdown",
   "id": "9ce276b7",
   "metadata": {},
   "source": [
    "### Question 3: Write a Python program to remove a key-value pair from a dictionary.\n",
    "\n"
   ]
  },
  {
   "cell_type": "code",
   "execution_count": 7,
   "id": "13d9c850",
   "metadata": {},
   "outputs": [
    {
     "data": {
      "text/plain": [
       "{'banana': 3, 'cheeku': 2}"
      ]
     },
     "execution_count": 7,
     "metadata": {},
     "output_type": "execute_result"
    }
   ],
   "source": [
    "fruit={'banana': 3, 'Mango': 8, 'cheeku': 2}\n",
    "del fruit['Mango']\n",
    "fruit"
   ]
  },
  {
   "cell_type": "markdown",
   "id": "16157887",
   "metadata": {},
   "source": [
    "### Question 4: Write a Python program to check if a key exists in a dictionary."
   ]
  },
  {
   "cell_type": "code",
   "execution_count": 9,
   "id": "1588361b",
   "metadata": {},
   "outputs": [
    {
     "name": "stdout",
     "output_type": "stream",
     "text": [
      "True\n"
     ]
    }
   ],
   "source": [
    "fruit={'banana': 3, 'Mango': 8, 'cheeku': 2}\n",
    "print('banana' in fruit)"
   ]
  },
  {
   "cell_type": "markdown",
   "id": "c224f36e",
   "metadata": {},
   "source": [
    "### Question 5: Write a Python program to iterate over the keys and values of a dictionary."
   ]
  },
  {
   "cell_type": "code",
   "execution_count": 12,
   "id": "e7783b13",
   "metadata": {},
   "outputs": [
    {
     "name": "stdout",
     "output_type": "stream",
     "text": [
      "key= banana\n",
      "value= 3\n",
      "key= Mango\n",
      "value= 8\n",
      "key= cheeku\n",
      "value= 2\n"
     ]
    }
   ],
   "source": [
    "fruit={'banana': 3, 'Mango': 8, 'cheeku': 2}\n",
    "for i in fruit:\n",
    "    print(\"key=\",i)\n",
    "    print(\"value=\",fruit[i])"
   ]
  },
  {
   "cell_type": "markdown",
   "id": "7f1cd800",
   "metadata": {},
   "source": [
    "### Question 6:Write a Python program to find the length of a dictionary.\n",
    "\n"
   ]
  },
  {
   "cell_type": "code",
   "execution_count": 14,
   "id": "bbd61af2",
   "metadata": {},
   "outputs": [
    {
     "name": "stdout",
     "output_type": "stream",
     "text": [
      "3\n",
      "3\n"
     ]
    }
   ],
   "source": [
    "fruit={'banana': 3, 'Mango': 8, 'cheeku': 2}\n",
    "count=0\n",
    "for i in fruit:\n",
    "    count=count+1\n",
    "print(count)\n",
    "\n",
    "#or we use len\n",
    "print(len(fruit))"
   ]
  },
  {
   "cell_type": "markdown",
   "id": "e53486ac",
   "metadata": {},
   "source": [
    "### Question 7: Write a Python program to merge two dictionaries."
   ]
  },
  {
   "cell_type": "code",
   "execution_count": 17,
   "id": "bc376587",
   "metadata": {},
   "outputs": [
    {
     "name": "stdout",
     "output_type": "stream",
     "text": [
      "{'Ramu': 34, 'Shu': 8, 'Ram': 34, 'Gita': 8}\n"
     ]
    }
   ],
   "source": [
    "marks1={'Ram':34,'Gita':8}\n",
    "marks2={'Ramu':34,'Shu':8}\n",
    "\n",
    "#merging two dict\n",
    "marks2.update(marks1)\n",
    "print(marks2)"
   ]
  },
  {
   "cell_type": "markdown",
   "id": "9b7a6c50",
   "metadata": {},
   "source": [
    "### Question 8: Write a Python program to find the maximum and minimum values in a dictionary.\n",
    "\n"
   ]
  },
  {
   "cell_type": "code",
   "execution_count": 1,
   "id": "72079d69",
   "metadata": {},
   "outputs": [
    {
     "name": "stdout",
     "output_type": "stream",
     "text": [
      "34\n",
      "8\n"
     ]
    }
   ],
   "source": [
    "marks1={'Ram':34,'Gita':8}\n",
    "print(max(marks1.values()))\n",
    "print(min(marks1.values()))\n"
   ]
  },
  {
   "cell_type": "markdown",
   "id": "78f6c54e",
   "metadata": {},
   "source": [
    "### Question 9: Write a Python program to sort a dictionary by its values.\n",
    "\n"
   ]
  },
  {
   "cell_type": "code",
   "execution_count": 33,
   "id": "9a395455",
   "metadata": {},
   "outputs": [
    {
     "name": "stdout",
     "output_type": "stream",
     "text": [
      "[8, 34, 99]\n"
     ]
    }
   ],
   "source": [
    "marks1={'Ram':34,'Gita':8,'Amit':99}\n",
    "print(sorted(marks1.values()))"
   ]
  },
  {
   "cell_type": "code",
   "execution_count": null,
   "id": "00d6718e",
   "metadata": {},
   "outputs": [],
   "source": []
  }
 ],
 "metadata": {
  "kernelspec": {
   "display_name": "Python 3 (ipykernel)",
   "language": "python",
   "name": "python3"
  },
  "language_info": {
   "codemirror_mode": {
    "name": "ipython",
    "version": 3
   },
   "file_extension": ".py",
   "mimetype": "text/x-python",
   "name": "python",
   "nbconvert_exporter": "python",
   "pygments_lexer": "ipython3",
   "version": "3.10.9"
  }
 },
 "nbformat": 4,
 "nbformat_minor": 5
}
