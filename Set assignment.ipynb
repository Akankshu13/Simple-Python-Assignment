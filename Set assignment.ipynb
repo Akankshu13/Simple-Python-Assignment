{
 "cells": [
  {
   "cell_type": "markdown",
   "id": "7ee6a1f7",
   "metadata": {},
   "source": [
    "#                Python coding on sets\n",
    "                                      \n"
   ]
  },
  {
   "cell_type": "markdown",
   "id": "1a7007c8",
   "metadata": {},
   "source": [
    "# Assignment\n"
   ]
  },
  {
   "cell_type": "markdown",
   "id": "2344777a",
   "metadata": {},
   "source": [
    "### Question 1: Write a Python program to create an empty set.\n",
    "\n",
    "\n"
   ]
  },
  {
   "cell_type": "code",
   "execution_count": 5,
   "id": "5c0e177a",
   "metadata": {},
   "outputs": [
    {
     "name": "stdout",
     "output_type": "stream",
     "text": [
      "<class 'set'>\n"
     ]
    }
   ],
   "source": [
    "a=set()\n",
    "print(type(a))"
   ]
  },
  {
   "cell_type": "markdown",
   "id": "d74ae4d8",
   "metadata": {},
   "source": [
    "### Question 2: Write a Python program to check if two sets are equal."
   ]
  },
  {
   "cell_type": "code",
   "execution_count": 25,
   "id": "0ad87100",
   "metadata": {},
   "outputs": [
    {
     "name": "stdout",
     "output_type": "stream",
     "text": [
      "False\n",
      "True\n"
     ]
    }
   ],
   "source": [
    "a={1,2,3}\n",
    "b={1,2,3,4,5}\n",
    "print(a==b)\n",
    "\n",
    "#or we can find by using subset\n",
    "print(a.issubset(b))"
   ]
  },
  {
   "cell_type": "markdown",
   "id": "4668526a",
   "metadata": {},
   "source": [
    "### Question 3: Write a Python program to add an element to a set.\n",
    "\n"
   ]
  },
  {
   "cell_type": "code",
   "execution_count": 15,
   "id": "c1d119d0",
   "metadata": {},
   "outputs": [
    {
     "name": "stdout",
     "output_type": "stream",
     "text": [
      "{4, 5, 7, 8, 9}\n",
      "{4, 5, 7, 8, 9, 76, 88}\n"
     ]
    }
   ],
   "source": [
    "av={4,5,7,8}\n",
    "\n",
    "#add an element\n",
    "av.add(9)                #add only add 1 value\n",
    "print(av)\n",
    "\n",
    "av.update([88,76])            #update is used to add more than 1 value\n",
    "print(av)"
   ]
  },
  {
   "cell_type": "markdown",
   "id": "fc708faa",
   "metadata": {},
   "source": [
    "### Question 4: Write a Python program to remove an element from a set."
   ]
  },
  {
   "cell_type": "code",
   "execution_count": 11,
   "id": "791feb72",
   "metadata": {},
   "outputs": [
    {
     "name": "stdout",
     "output_type": "stream",
     "text": [
      "{66, 4, 5, 7, 8}\n"
     ]
    }
   ],
   "source": [
    "a1={4,5,7,8,9,66}\n",
    "a1.remove(9)\n",
    "print(a1)"
   ]
  },
  {
   "cell_type": "markdown",
   "id": "88cc30c5",
   "metadata": {},
   "source": [
    "### Question 5: Write a Python program to find the union of two sets."
   ]
  },
  {
   "cell_type": "code",
   "execution_count": 17,
   "id": "b646f05d",
   "metadata": {},
   "outputs": [
    {
     "name": "stdout",
     "output_type": "stream",
     "text": [
      "{'cheeku', 'apple', 'mango', 'guava', 'banana'}\n"
     ]
    }
   ],
   "source": [
    "fruit={'apple','mango','banana'}\n",
    "fruit1={'guava','apple','cheeku'}\n",
    "\n",
    "print(fruit.union(fruit1))"
   ]
  },
  {
   "cell_type": "markdown",
   "id": "e74f574c",
   "metadata": {},
   "source": [
    "### Question 6: Write a Python program to find the intersection of two sets"
   ]
  },
  {
   "cell_type": "code",
   "execution_count": 18,
   "id": "1909bc11",
   "metadata": {},
   "outputs": [
    {
     "name": "stdout",
     "output_type": "stream",
     "text": [
      "{'apple'}\n"
     ]
    }
   ],
   "source": [
    "fruit={'apple','mango','banana'}\n",
    "fruit1={'guava','apple','cheeku'}\n",
    "\n",
    "print(fruit.intersection(fruit1))"
   ]
  },
  {
   "cell_type": "markdown",
   "id": "c4967b83",
   "metadata": {},
   "source": [
    "### Question 7: Write a Python program to find the difference between two sets"
   ]
  },
  {
   "cell_type": "code",
   "execution_count": 20,
   "id": "0a49c1e7",
   "metadata": {},
   "outputs": [
    {
     "name": "stdout",
     "output_type": "stream",
     "text": [
      "{'mango', 'banana'}\n",
      "{'cheeku', 'guava'}\n"
     ]
    }
   ],
   "source": [
    "fruit={'apple','mango','banana'}\n",
    "fruit1={'guava','apple','cheeku'}\n",
    "print(fruit.difference(fruit1))\n",
    "print(fruit1.difference(fruit))"
   ]
  },
  {
   "cell_type": "markdown",
   "id": "1e04f643",
   "metadata": {},
   "source": [
    "### Question 8: Write a Python program to check if a set is a subset of another set.\n",
    "\n"
   ]
  },
  {
   "cell_type": "code",
   "execution_count": 21,
   "id": "d615f935",
   "metadata": {},
   "outputs": [
    {
     "name": "stdout",
     "output_type": "stream",
     "text": [
      "True\n",
      "False\n"
     ]
    }
   ],
   "source": [
    "fruit={'apple','cheeku'}\n",
    "fruit1={'guava','apple','cheeku'}\n",
    "\n",
    "print(fruit.issubset(fruit1))\n",
    "print(fruit1.issubset(fruit))"
   ]
  },
  {
   "cell_type": "markdown",
   "id": "08d811a8",
   "metadata": {},
   "source": [
    "### Question 9: Write a Python program to remove all duplicate elements from a set.\n",
    "\n"
   ]
  },
  {
   "cell_type": "markdown",
   "id": "8c91e2b5",
   "metadata": {},
   "source": [
    "# set does not contain duplicate value. It will automatically remove duplicates."
   ]
  },
  {
   "cell_type": "markdown",
   "id": "b9cc774f",
   "metadata": {},
   "source": [
    "### Question 10: Write a Python program to find the maximum and minimum elements in a set."
   ]
  },
  {
   "cell_type": "code",
   "execution_count": 23,
   "id": "bf4c30fd",
   "metadata": {},
   "outputs": [
    {
     "name": "stdout",
     "output_type": "stream",
     "text": [
      "9\n",
      "3\n"
     ]
    }
   ],
   "source": [
    "element1={5,6,9,4,3}\n",
    "print(max(element1))\n",
    "print(min(element1))\n"
   ]
  },
  {
   "cell_type": "code",
   "execution_count": null,
   "id": "68a690fd",
   "metadata": {},
   "outputs": [],
   "source": []
  }
 ],
 "metadata": {
  "kernelspec": {
   "display_name": "Python 3 (ipykernel)",
   "language": "python",
   "name": "python3"
  },
  "language_info": {
   "codemirror_mode": {
    "name": "ipython",
    "version": 3
   },
   "file_extension": ".py",
   "mimetype": "text/x-python",
   "name": "python",
   "nbconvert_exporter": "python",
   "pygments_lexer": "ipython3",
   "version": "3.10.9"
  }
 },
 "nbformat": 4,
 "nbformat_minor": 5
}
