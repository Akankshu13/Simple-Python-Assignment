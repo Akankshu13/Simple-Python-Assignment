{
 "cells": [
  {
   "cell_type": "markdown",
   "id": "20c5f494",
   "metadata": {},
   "source": [
    "# Python Coding On Tuple \n",
    "                        \n"
   ]
  },
  {
   "cell_type": "markdown",
   "id": "565c759c",
   "metadata": {},
   "source": [
    "# Assignment  "
   ]
  },
  {
   "cell_type": "markdown",
   "id": "c0c776a9",
   "metadata": {},
   "source": [
    "### Question 1: Write a Python program to create an empty tuple.\n",
    "\n"
   ]
  },
  {
   "cell_type": "code",
   "execution_count": 28,
   "id": "14ae123f",
   "metadata": {},
   "outputs": [
    {
     "name": "stdout",
     "output_type": "stream",
     "text": [
      "<class 'tuple'>\n"
     ]
    }
   ],
   "source": [
    "tup=()\n",
    "print(type(tup))"
   ]
  },
  {
   "cell_type": "markdown",
   "id": "bc33eda5",
   "metadata": {},
   "source": [
    "### Question 2: Write a Python program to access the elements of a tuple."
   ]
  },
  {
   "cell_type": "code",
   "execution_count": 27,
   "id": "0f52de0d",
   "metadata": {},
   "outputs": [
    {
     "name": "stdout",
     "output_type": "stream",
     "text": [
      "Simran\n",
      "9.6\n",
      "Jay\n",
      "98\n",
      "bhumi\n",
      "7\n",
      "77\n"
     ]
    }
   ],
   "source": [
    "mytup=('Simran', 9.6, 'Jay', 77, 7, 89, 98, 'bhumi')\n",
    "\n",
    "#access the element\n",
    "print(mytup[0])\n",
    "print(mytup[1])\n",
    "print(mytup[2])\n",
    "print(mytup[6])\n",
    "print(mytup[-1])\n",
    "print(mytup[-4])\n",
    "print(mytup[3])"
   ]
  },
  {
   "cell_type": "markdown",
   "id": "547b9132",
   "metadata": {},
   "source": [
    "### Question 3: Write a Python program to concatenate two tuples.\n",
    "\n"
   ]
  },
  {
   "cell_type": "code",
   "execution_count": 22,
   "id": "0fc78ae9",
   "metadata": {},
   "outputs": [
    {
     "name": "stdout",
     "output_type": "stream",
     "text": [
      "Concatination of the tuple is: ('Simran', 9.6, 'Jay', 77, 77, 89, 98, 'bhumi')\n"
     ]
    }
   ],
   "source": [
    "a=(\"Simran\",9.6,\"Jay\",77)\n",
    "b=(77,89,98,\"bhumi\")\n",
    "\n",
    "#concatenate the tuble\n",
    "\n",
    "c=a+b\n",
    "print(\"Concatination of the tuple is:\",c)"
   ]
  },
  {
   "cell_type": "markdown",
   "id": "060a321b",
   "metadata": {},
   "source": [
    "### Question 4: Write a Python program to find the length of a tuple."
   ]
  },
  {
   "cell_type": "code",
   "execution_count": 21,
   "id": "7a8a6005",
   "metadata": {},
   "outputs": [
    {
     "name": "stdout",
     "output_type": "stream",
     "text": [
      "The length of a tuple is: 9\n"
     ]
    }
   ],
   "source": [
    "tup1=(56,12,89,56,74,3,41,78,5)\n",
    "count=0\n",
    "for i in tup1:\n",
    "    count=count+1\n",
    "print(\"The length of a tuple is:\",count)"
   ]
  },
  {
   "cell_type": "markdown",
   "id": "11fcbdea",
   "metadata": {},
   "source": [
    "### Question 5: Write a Python program to convert a tuple into a list."
   ]
  },
  {
   "cell_type": "code",
   "execution_count": 19,
   "id": "f9b19466",
   "metadata": {},
   "outputs": [
    {
     "name": "stdout",
     "output_type": "stream",
     "text": [
      "<class 'tuple'>\n",
      "[56, 12, 89, 56, 74, 3, 41]\n",
      "<class 'list'>\n"
     ]
    }
   ],
   "source": [
    "tup1=(56,12,89,56,74,3,41)\n",
    "print(type(tup1))\n",
    "\n",
    "b=list(tup1)\n",
    "print(b)\n",
    "print(type(b))"
   ]
  },
  {
   "cell_type": "markdown",
   "id": "95e7da9d",
   "metadata": {},
   "source": [
    "### Question 6: Write a Python program to find the maximum and minimum elements in a tuple.\n",
    "\n"
   ]
  },
  {
   "cell_type": "code",
   "execution_count": 17,
   "id": "ec209980",
   "metadata": {},
   "outputs": [
    {
     "name": "stdout",
     "output_type": "stream",
     "text": [
      "Maximum number in the tuple is: 89\n",
      "Minimum number in the tuple is: 3\n"
     ]
    }
   ],
   "source": [
    "tup=(56,12,89,56,74,3,41)\n",
    "a=(min(tup))\n",
    "b=(max(tup))\n",
    "\n",
    "print(\"Maximum number in the tuple is:\",b)\n",
    "print(\"Minimum number in the tuple is:\",a)"
   ]
  },
  {
   "cell_type": "markdown",
   "id": "cb8adcbd",
   "metadata": {},
   "source": [
    "### Question 7: Write a Python program to check if an element exists in a tuple.\n",
    "\n"
   ]
  },
  {
   "cell_type": "code",
   "execution_count": 32,
   "id": "2c9c3234",
   "metadata": {},
   "outputs": [
    {
     "name": "stdout",
     "output_type": "stream",
     "text": [
      "True\n",
      "True\n",
      "False\n"
     ]
    }
   ],
   "source": [
    "ab1=(\"humanity\",\"Goal\",\"Book\")\n",
    "print(\"humanity\" in ab1)\n",
    "print(\"Book\" in ab1)\n",
    "print(\"Keep\" in ab1)"
   ]
  },
  {
   "cell_type": "markdown",
   "id": "748808ad",
   "metadata": {},
   "source": [
    "### Question 8: Write a Python program to count the number of occurrences of an element in a tuple.\n",
    "\n"
   ]
  },
  {
   "cell_type": "code",
   "execution_count": 44,
   "id": "5d250b8e",
   "metadata": {},
   "outputs": [
    {
     "data": {
      "text/plain": [
       "2"
      ]
     },
     "execution_count": 44,
     "metadata": {},
     "output_type": "execute_result"
    }
   ],
   "source": [
    "a=(76,6,4,6,7,8,6,7)\n",
    "a.count(6)\n",
    "a.count(7)"
   ]
  },
  {
   "cell_type": "markdown",
   "id": "e419fde2",
   "metadata": {},
   "source": [
    "### Question 9: Write a Python program to slice a tuple.\n",
    "\n"
   ]
  },
  {
   "cell_type": "code",
   "execution_count": 5,
   "id": "70d8b85b",
   "metadata": {},
   "outputs": [
    {
     "name": "stdout",
     "output_type": "stream",
     "text": [
      "(8, 4, 6, 9)\n",
      "(7, 8, 4, 6)\n",
      "(5, 6, 7, 8, 4, 6, 9)\n",
      "(4, 6, 9)\n"
     ]
    }
   ],
   "source": [
    "ab=(5,6,7,8,4,6,9,7,4)\n",
    "#from 3rd element till 6th \n",
    "print(ab[3:7])\n",
    "\n",
    "#from 2nd to 5th\n",
    "print(ab[2:6])\n",
    "\n",
    "#from starting to last 3rd\n",
    "print(ab[:-2])\n",
    "\n",
    "#from 5th from end to last 3rd\n",
    "print(ab[-5:-2])"
   ]
  },
  {
   "cell_type": "markdown",
   "id": "955cccf2",
   "metadata": {},
   "source": [
    "### Question 10: Write a Python program to unpack a tuple into multiple variables.\n",
    "\n"
   ]
  },
  {
   "cell_type": "code",
   "execution_count": 9,
   "id": "362e4949",
   "metadata": {},
   "outputs": [
    {
     "name": "stdout",
     "output_type": "stream",
     "text": [
      "5 [6, 7, 8, 4, 6, 9, 7] 4\n"
     ]
    }
   ],
   "source": [
    "abc=(5,6,7,8,4,6,9,7,4)\n",
    "\n",
    "#unpacking\n",
    "\n",
    "a,*b,c=abc               #I'll give first element to a, last to c and remaining to b that's why i used * symbol\n",
    "print(a,b,c)"
   ]
  },
  {
   "cell_type": "code",
   "execution_count": null,
   "id": "b413915a",
   "metadata": {},
   "outputs": [],
   "source": []
  }
 ],
 "metadata": {
  "kernelspec": {
   "display_name": "Python 3 (ipykernel)",
   "language": "python",
   "name": "python3"
  },
  "language_info": {
   "codemirror_mode": {
    "name": "ipython",
    "version": 3
   },
   "file_extension": ".py",
   "mimetype": "text/x-python",
   "name": "python",
   "nbconvert_exporter": "python",
   "pygments_lexer": "ipython3",
   "version": "3.10.9"
  }
 },
 "nbformat": 4,
 "nbformat_minor": 5
}
