{
 "cells": [
  {
   "cell_type": "markdown",
   "id": "6825839b",
   "metadata": {},
   "source": [
    "#                                 Python Coding on Strings \n",
    "                                                                   "
   ]
  },
  {
   "cell_type": "markdown",
   "id": "fb3367de",
   "metadata": {},
   "source": [
    "# Assignment \n"
   ]
  },
  {
   "cell_type": "markdown",
   "id": "229becbf",
   "metadata": {},
   "source": [
    "### Question 1: Write a Python program to count the number of characters in a string.\n",
    "\n"
   ]
  },
  {
   "cell_type": "code",
   "execution_count": 12,
   "id": "b919db9a",
   "metadata": {},
   "outputs": [
    {
     "name": "stdout",
     "output_type": "stream",
     "text": [
      "13\n",
      "13\n"
     ]
    }
   ],
   "source": [
    "str1=\"I love fruits\"\n",
    "count=0\n",
    "for i in str1:\n",
    "    count=count+1\n",
    "print(count)\n",
    "\n",
    "#or we use len function\n",
    "\n",
    "print(len(str1))"
   ]
  },
  {
   "cell_type": "markdown",
   "id": "93273fb8",
   "metadata": {},
   "source": [
    "### Question 2: Write a Python program to reverse a string.\n",
    "\n",
    "\n"
   ]
  },
  {
   "cell_type": "code",
   "execution_count": 10,
   "id": "9a39350b",
   "metadata": {},
   "outputs": [
    {
     "name": "stdout",
     "output_type": "stream",
     "text": [
      "<class 'str'>\n",
      "['I', 'love', 'fruits']\n",
      "['fruits', 'love', 'I']\n",
      "fruits love I\n"
     ]
    }
   ],
   "source": [
    "str1=\"I love fruits\"\n",
    "print(type(str1))\n",
    "\n",
    "a=str1.split(\" \")          #we split the words from space\n",
    "print(a)\n",
    "\n",
    "b=a[::-1]               #here we reverse the list\n",
    "print(b)\n",
    "\n",
    "c=\" \".join(b)          #here we join \n",
    "print(c)"
   ]
  },
  {
   "cell_type": "markdown",
   "id": "86d6e0f3",
   "metadata": {},
   "source": [
    "### Question 3: Write a Python program to check if a string is a palindrome"
   ]
  },
  {
   "cell_type": "code",
   "execution_count": 19,
   "id": "b6d725c8",
   "metadata": {},
   "outputs": [
    {
     "name": "stdout",
     "output_type": "stream",
     "text": [
      "evig\n",
      "String is not pallindrome\n"
     ]
    }
   ],
   "source": [
    "str11=\"give\"\n",
    "str12=str11[::-1]   #here we reverse the string and store in a variable str12\n",
    "print(str12)\n",
    "\n",
    "if str11==str12:          #compare both the string\n",
    "    print(\"String is pallindrome\")\n",
    "else:\n",
    "    print(\"String is not pallindrome\")\n",
    "    \n",
    "    "
   ]
  },
  {
   "cell_type": "markdown",
   "id": "2a14e01c",
   "metadata": {},
   "source": [
    "### Question 4: Write a Python program to find the most common character in a string"
   ]
  },
  {
   "cell_type": "code",
   "execution_count": 17,
   "id": "50d65688",
   "metadata": {},
   "outputs": [
    {
     "name": "stdout",
     "output_type": "stream",
     "text": [
      "Counter({'a': 2, 'c': 2, 'e': 2, 'D': 1, 't': 1, ' ': 1, 'S': 1, 'i': 1, 'n': 1})\n"
     ]
    }
   ],
   "source": [
    "from collections import Counter\n",
    "\n",
    "sttr=\"Data Science\"\n",
    "common=Counter(sttr)\n",
    "print(common)"
   ]
  },
  {
   "cell_type": "markdown",
   "id": "c486c4e6",
   "metadata": {},
   "source": [
    "### Question 5: Write a Python program to check if two strings are anagrams."
   ]
  },
  {
   "cell_type": "code",
   "execution_count": 16,
   "id": "e08ad93a",
   "metadata": {},
   "outputs": [
    {
     "name": "stdout",
     "output_type": "stream",
     "text": [
      "Heart and earth are anagram\n"
     ]
    }
   ],
   "source": [
    "#anagrams is a word or phrase that is made by arranging the letters of another word or phrase in a different order\n",
    "\n",
    "string1=\"Heart\"\n",
    "string2=\"earth\"\n",
    "\n",
    "#first check the length of the string \n",
    "if (len(string1)==len(string2)):\n",
    "\n",
    "    #convert both in lower case\n",
    "    str1=string1.lower()\n",
    "    str2=string2.lower()\n",
    "\n",
    "\n",
    "    #now we sort it\n",
    "    sorted1=sorted(str1)\n",
    "    sorted2=sorted(str2)\n",
    "\n",
    "    #compare both\n",
    "    if (sorted1==sorted2):\n",
    "        print(string1 + \" and \" + string2 + \" are anagram\")\n",
    "    \n",
    "    else:\n",
    "        print(string1 + \" and \" + string2 + \" are not anagram\")\n",
    "        \n",
    "else:\n",
    "    print(string1 + \" and \" + string2 + \" are not anagram\")\n",
    "        "
   ]
  },
  {
   "cell_type": "markdown",
   "id": "7346afac",
   "metadata": {},
   "source": [
    "### Question 6: Write a Python program to remove all the vowels from a string."
   ]
  },
  {
   "cell_type": "code",
   "execution_count": 25,
   "id": "c446893b",
   "metadata": {},
   "outputs": [
    {
     "name": "stdout",
     "output_type": "stream",
     "text": [
      " hv  mnky\n",
      "<class 'str'>\n"
     ]
    }
   ],
   "source": [
    "strr=\"I have a monkey\"\n",
    "vowels=['a','e','i','o','u','A','E','I','O','U']\n",
    "newstrr=\"\"\n",
    "\n",
    "for i in range(len(strr)):\n",
    "    if strr[i] not in vowels:\n",
    "        newstrr=newstrr + strr[i]\n",
    "print(newstrr)\n",
    "print(type(newstrr))"
   ]
  },
  {
   "cell_type": "markdown",
   "id": "009dc648",
   "metadata": {},
   "source": [
    "### Question 7: Write a Python program to find the longest word in a string"
   ]
  },
  {
   "cell_type": "code",
   "execution_count": 15,
   "id": "45d4e51e",
   "metadata": {},
   "outputs": [
    {
     "name": "stdout",
     "output_type": "stream",
     "text": [
      "['I', 'am', 'Akanksha.', 'I', 'am', 'learning', 'Data', 'Science']\n",
      "\n",
      "longest_word is: Akanksha.\n"
     ]
    }
   ],
   "source": [
    "ab=\"I am Akanksha. I am learning Data Science\"\n",
    "aa= ab.split(\" \")     #we split the word so it will covert into a list bcz it will easy to find the longest word\n",
    "print(aa)             #now we print to see how its looks like\n",
    "\n",
    "longest_word= max(aa,key= len)        #here we use max function \n",
    "print(\"\\nlongest_word is:\",longest_word)\n"
   ]
  },
  {
   "cell_type": "markdown",
   "id": "d31692cd",
   "metadata": {},
   "source": [
    "### Question 8: Write a Python program to capitalize the first letter of each word in a string.\n",
    "\n"
   ]
  },
  {
   "cell_type": "code",
   "execution_count": 42,
   "id": "97253323",
   "metadata": {},
   "outputs": [
    {
     "name": "stdout",
     "output_type": "stream",
     "text": [
      "I Am Akanksha. I Am Learning Data Science\n"
     ]
    }
   ],
   "source": [
    "ab=\"I am Akanksha. I am learning Data Science\"\n",
    "print(ab.title())                #use title to capitalize the frst letter"
   ]
  },
  {
   "cell_type": "markdown",
   "id": "fec64875",
   "metadata": {},
   "source": [
    "### Question 9: Write a Python program to find the frequency of each character in a string."
   ]
  },
  {
   "cell_type": "code",
   "execution_count": 48,
   "id": "6ab65e39",
   "metadata": {},
   "outputs": [
    {
     "name": "stdout",
     "output_type": "stream",
     "text": [
      "Counter({'a': 3, ' ': 2, 'k': 2, 'I': 1, 'm': 1, 'A': 1, 'n': 1, 's': 1, 'h': 1})\n"
     ]
    }
   ],
   "source": [
    "from collections import Counter\n",
    "\n",
    "ab=\"I am Akanksha\"\n",
    "frequency=Counter(ab)\n",
    "print(frequency)\n"
   ]
  },
  {
   "cell_type": "markdown",
   "id": "4754bdd4",
   "metadata": {},
   "source": [
    "### Question 10: Write a Python program to check if a string is a valid email address.\n",
    "\n",
    "\n"
   ]
  },
  {
   "cell_type": "code",
   "execution_count": 6,
   "id": "6e8efd65",
   "metadata": {},
   "outputs": [
    {
     "name": "stdout",
     "output_type": "stream",
     "text": [
      "Enter your email ID:fg@gmail.com\n",
      "fg@gmail.com is valid\n"
     ]
    }
   ],
   "source": [
    "#email is divided into 3 parts\n",
    "#userid@domainname.ext\n",
    "\n",
    "import re\n",
    "\n",
    "pattern=\"^[a-z 0-9]+[\\._]?[a-z 0-9]+[@]\\w+[.]\\w{2,3}$\"\n",
    "\n",
    "#  ^ use match the start of sting\n",
    "#  $ use match the end of the string\n",
    "#  ? use for 0 or 1 repetitions\n",
    "# \\w use for if matches any alphanumeric character\n",
    "# {2,3} means length of the extension will be 2 to 3 digit\n",
    "\n",
    "email_id=input(\"Enter your email ID:\")\n",
    "\n",
    "if re.search(pattern,email_id):\n",
    "    print(f'{email_id} is valid')\n",
    "else:\n",
    "    print(f'{email_id} is invalid')"
   ]
  },
  {
   "cell_type": "code",
   "execution_count": null,
   "id": "fcaaa236",
   "metadata": {},
   "outputs": [],
   "source": []
  }
 ],
 "metadata": {
  "kernelspec": {
   "display_name": "Python 3 (ipykernel)",
   "language": "python",
   "name": "python3"
  },
  "language_info": {
   "codemirror_mode": {
    "name": "ipython",
    "version": 3
   },
   "file_extension": ".py",
   "mimetype": "text/x-python",
   "name": "python",
   "nbconvert_exporter": "python",
   "pygments_lexer": "ipython3",
   "version": "3.10.9"
  }
 },
 "nbformat": 4,
 "nbformat_minor": 5
}
